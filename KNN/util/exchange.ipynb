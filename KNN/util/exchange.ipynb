{
 "cells": [
  {
   "cell_type": "code",
   "execution_count": 5,
   "metadata": {},
   "outputs": [
    {
     "name": "stdout",
     "output_type": "stream",
     "text": [
      "-5.241e-07 * x ** 4 + 0.0009059 * x ** 3 - 0.5874 * x ** 2 + 170 * x ** 1 - 1.82e+04\n"
     ]
    }
   ],
   "source": [
    "str1 = \"-5.241e-07 x + 0.0009059 x - 0.5874 x + 170 x - 1.82e+04\"\n",
    "\n",
    "strs = str1.split(\"x\")\n",
    "ans = \"\"\n",
    "for i in range(len(strs)):\n",
    "    if i == len(strs) - 1:\n",
    "        ans += str(strs[i]) \n",
    "    else:\n",
    "        ans += str(strs[i]) + \"* x ** \" + str(len(strs) - i - 1)\n",
    "\n",
    "print(ans)"
   ]
  }
 ],
 "metadata": {
  "kernelspec": {
   "display_name": "pytorch",
   "language": "python",
   "name": "python3"
  },
  "language_info": {
   "codemirror_mode": {
    "name": "ipython",
    "version": 3
   },
   "file_extension": ".py",
   "mimetype": "text/x-python",
   "name": "python",
   "nbconvert_exporter": "python",
   "pygments_lexer": "ipython3",
   "version": "3.11.8"
  }
 },
 "nbformat": 4,
 "nbformat_minor": 2
}
